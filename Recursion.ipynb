{
 "cells": [
  {
   "cell_type": "markdown",
   "metadata": {},
   "source": [
    "<h1> Tower of Hanoi </h1>"
   ]
  },
  {
   "cell_type": "code",
   "execution_count": 1,
   "metadata": {},
   "outputs": [],
   "source": [
    "def tower_of_hanoi(number_of_blocks, From, Spare, To):\n",
    "    if number_of_blocks==1:\n",
    "        print(\"Move block \",number_of_blocks,\" from \", From, \" to \", To)\n",
    "        return \n",
    "    tower_of_hanoi(number_of_blocks-1, From, To, Spare)\n",
    "    print(\"Move block \", number_of_blocks,\" from \", From, \" to \", To)\n",
    "    tower_of_hanoi(number_of_blocks-1, Spare, From, To)"
   ]
  },
  {
   "cell_type": "code",
   "execution_count": 2,
   "metadata": {},
   "outputs": [
    {
     "name": "stdout",
     "output_type": "stream",
     "text": [
      "Move block  1  from  A  to  C\n",
      "Move block  2  from  A  to  B\n",
      "Move block  1  from  C  to  B\n",
      "Move block  3  from  A  to  C\n",
      "Move block  1  from  B  to  A\n",
      "Move block  2  from  B  to  C\n",
      "Move block  1  from  A  to  C\n"
     ]
    }
   ],
   "source": [
    "tower_of_hanoi(3, \"A\", \"B\", \"C\")"
   ]
  },
  {
   "cell_type": "markdown",
   "metadata": {},
   "source": [
    "<h1> N Queens Problem </h1>"
   ]
  },
  {
   "cell_type": "code",
   "execution_count": null,
   "metadata": {},
   "outputs": [],
   "source": []
  },
  {
   "cell_type": "markdown",
   "metadata": {},
   "source": [
    "<h1>Permutations</h1>"
   ]
  },
  {
   "cell_type": "code",
   "execution_count": 35,
   "metadata": {},
   "outputs": [],
   "source": [
    "def permute(nums):\n",
    "    def swap (arr, i, j):\n",
    "        temp = arr[i]\n",
    "        arr[i] = arr[j]\n",
    "        arr[j] = temp\n",
    "        \n",
    "    def permutations(nums, start, results):\n",
    "        if start >= len(nums):\n",
    "            results.append(nums.copy())\n",
    "        else:\n",
    "            for i in range(start, len(nums)):\n",
    "                swap(nums, start, i)\n",
    "                permutations(nums, start+1, results)\n",
    "                swap(nums, start, i)          \n",
    "    results = []\n",
    "    permutations(nums, 0, results)\n",
    "    return results\n",
    "    "
   ]
  },
  {
   "cell_type": "code",
   "execution_count": 49,
   "metadata": {},
   "outputs": [
    {
     "data": {
      "text/plain": [
       "[[1, 2, 3], [1, 3, 2], [2, 1, 3], [2, 3, 1], [3, 2, 1], [3, 1, 2]]"
      ]
     },
     "execution_count": 49,
     "metadata": {},
     "output_type": "execute_result"
    }
   ],
   "source": [
    "permute([1, 2, 3])"
   ]
  },
  {
   "cell_type": "markdown",
   "metadata": {},
   "source": [
    "<h1>Power set</h1>"
   ]
  },
  {
   "cell_type": "code",
   "execution_count": 50,
   "metadata": {},
   "outputs": [],
   "source": [
    "def power_set(input_set):\n",
    "    def directed_power_set(to_be_selected, selected_so_far) :\n",
    "        if to_be_selected == len(input_set) :\n",
    "            power_set.append(list(selected_so_far))\n",
    "            return\n",
    "        directed_power_set(to_be_selected + 1, selected_so_far)\n",
    "        directed_power_set(to_be_selected + 1, selected_so_far + [input_set [to_be_selected]])\n",
    "    power_set = []\n",
    "    directed_power_set(0, [])\n",
    "    return power_set"
   ]
  },
  {
   "cell_type": "code",
   "execution_count": 51,
   "metadata": {},
   "outputs": [
    {
     "data": {
      "text/plain": [
       "[[], [2], [1], [1, 2], [0], [0, 2], [0, 1], [0, 1, 2]]"
      ]
     },
     "execution_count": 51,
     "metadata": {},
     "output_type": "execute_result"
    }
   ],
   "source": [
    "power_set([0, 1, 2])"
   ]
  },
  {
   "cell_type": "code",
   "execution_count": null,
   "metadata": {},
   "outputs": [],
   "source": []
  },
  {
   "cell_type": "code",
   "execution_count": null,
   "metadata": {},
   "outputs": [],
   "source": []
  }
 ],
 "metadata": {
  "kernelspec": {
   "display_name": "Python 3",
   "language": "python",
   "name": "python3"
  },
  "language_info": {
   "codemirror_mode": {
    "name": "ipython",
    "version": 3
   },
   "file_extension": ".py",
   "mimetype": "text/x-python",
   "name": "python",
   "nbconvert_exporter": "python",
   "pygments_lexer": "ipython3",
   "version": "3.7.3"
  }
 },
 "nbformat": 4,
 "nbformat_minor": 2
}
