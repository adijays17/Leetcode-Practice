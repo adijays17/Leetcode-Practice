{
 "cells": [
  {
   "cell_type": "markdown",
   "metadata": {},
   "source": [
    "<h1> Tower of Hanoi </h1>"
   ]
  },
  {
   "cell_type": "code",
   "execution_count": 119,
   "metadata": {},
   "outputs": [],
   "source": [
    "def tower_of_hanoi(number_of_blocks, From, Spare, To):\n",
    "    if number_of_blocks==1:\n",
    "        print(\"Move block \",number_of_blocks,\" from \", From, \" to \", To)\n",
    "        return \n",
    "    tower_of_hanoi(number_of_blocks-1, From, To, Spare)\n",
    "    print(\"Move block \", number_of_blocks,\" from \", From, \" to \", To)\n",
    "    tower_of_hanoi(number_of_blocks-1, Spare, From, To) "
   ]
  },
  {
   "cell_type": "code",
   "execution_count": 132,
   "metadata": {},
   "outputs": [
    {
     "name": "stdout",
     "output_type": "stream",
     "text": [
      "Move block  1  from  A  to  C\n",
      "Move block  2  from  A  to  B\n",
      "Move block  1  from  C  to  B\n",
      "Move block  3  from  A  to  C\n",
      "Move block  1  from  B  to  A\n",
      "Move block  2  from  B  to  C\n",
      "Move block  1  from  A  to  C\n"
     ]
    }
   ],
   "source": [
    "tower_of_hanoi(3, \"A\", \"B\", \"C\")"
   ]
  },
  {
   "cell_type": "markdown",
   "metadata": {},
   "source": [
    "<h1> N Queens Problem </h1>"
   ]
  },
  {
   "cell_type": "code",
   "execution_count": null,
   "metadata": {},
   "outputs": [],
   "source": []
  },
  {
   "cell_type": "code",
   "execution_count": null,
   "metadata": {},
   "outputs": [],
   "source": []
  },
  {
   "cell_type": "markdown",
   "metadata": {},
   "source": [
    "<h1>Permutations</h1>"
   ]
  },
  {
   "cell_type": "code",
   "execution_count": 1,
   "metadata": {},
   "outputs": [],
   "source": [
    "def permute(nums):\n",
    "    def swap (arr, i, j):\n",
    "        temp = arr[i]\n",
    "        arr[i] = arr[j]\n",
    "        arr[j] = temp\n",
    "        \n",
    "    def permutations(nums, start, results):\n",
    "        if start >= len(nums):\n",
    "            results.append(nums.copy())\n",
    "        else:\n",
    "            for i in range(start, len(nums)):\n",
    "                swap(nums, start, i)\n",
    "                permutations(nums, start+1, results)\n",
    "                swap(nums, start, i) #This is backtracking   \n",
    "    results = []\n",
    "    permutations(nums, 0, results)\n",
    "    return results"
   ]
  },
  {
   "cell_type": "code",
   "execution_count": 2,
   "metadata": {},
   "outputs": [
    {
     "data": {
      "text/plain": [
       "[[1, 2, 3], [1, 3, 2], [2, 1, 3], [2, 3, 1], [3, 2, 1], [3, 1, 2]]"
      ]
     },
     "execution_count": 2,
     "metadata": {},
     "output_type": "execute_result"
    }
   ],
   "source": [
    "permute([1, 2, 3])"
   ]
  },
  {
   "cell_type": "markdown",
   "metadata": {},
   "source": [
    "<h1>Power set</h1>"
   ]
  },
  {
   "cell_type": "code",
   "execution_count": 3,
   "metadata": {},
   "outputs": [],
   "source": [
    "def power_set(input_set):\n",
    "    results = []\n",
    "    subset = []\n",
    "    def find_all_subsets(input_set, start_index, subset):\n",
    "        results.append(subset.copy())\n",
    "        for i in range(start_index, len(input_set)):\n",
    "            subset.append(input_set[i])\n",
    "            start_index += 1\n",
    "            find_all_subsets(input_set, start_index, subset)\n",
    "            del subset[-1]    #This is backtracking step\n",
    "    find_all_subsets(input_set, 0, subset)\n",
    "    return results\n",
    "    "
   ]
  },
  {
   "cell_type": "code",
   "execution_count": 4,
   "metadata": {},
   "outputs": [
    {
     "data": {
      "text/plain": [
       "[[], [2], [2, 1], [2, 1, 0], [2, 0], [1], [1, 0], [0]]"
      ]
     },
     "execution_count": 4,
     "metadata": {},
     "output_type": "execute_result"
    }
   ],
   "source": [
    "power_set([2, 1, 0])"
   ]
  },
  {
   "cell_type": "code",
   "execution_count": 5,
   "metadata": {},
   "outputs": [
    {
     "data": {
      "text/plain": [
       "[[], [1], [1, 3], [1, 3, 2], [1, 2], [3], [3, 2], [2]]"
      ]
     },
     "execution_count": 5,
     "metadata": {},
     "output_type": "execute_result"
    }
   ],
   "source": [
    "power_set([1, 3, 2])"
   ]
  },
  {
   "cell_type": "markdown",
   "metadata": {},
   "source": [
    "<h1>Power set for K</h1>"
   ]
  },
  {
   "cell_type": "code",
   "execution_count": 8,
   "metadata": {},
   "outputs": [],
   "source": [
    "def power_set_k(input_set, k):\n",
    "    results = []\n",
    "    if len(input_set) < 1:\n",
    "        return \n",
    "    subset = []\n",
    "    \n",
    "    def find_all_subsets(results, input_set, start_index, subset):\n",
    "        if len(subset) == k:\n",
    "            results.append(subset.copy())\n",
    "        for i in range(start_index, len(input_set)):\n",
    "            subset.append(input_set[i])\n",
    "            if len(subset) > k:\n",
    "                del subset[-1] #This is backtracking\n",
    "                return\n",
    "            start_index += 1\n",
    "            find_all_subsets(results, input_set, start_index, subset)\n",
    "            del subset[-1] #This is backtracking\n",
    "            \n",
    "    find_all_subsets(results, input_set, 0, subset)\n",
    "    return results"
   ]
  },
  {
   "cell_type": "code",
   "execution_count": 9,
   "metadata": {},
   "outputs": [
    {
     "data": {
      "text/plain": [
       "[[0, 1],\n",
       " [0, 2],\n",
       " [0, 3],\n",
       " [0, 4],\n",
       " [1, 2],\n",
       " [1, 3],\n",
       " [1, 4],\n",
       " [2, 3],\n",
       " [2, 4],\n",
       " [3, 4]]"
      ]
     },
     "execution_count": 9,
     "metadata": {},
     "output_type": "execute_result"
    }
   ],
   "source": [
    "power_set_k([0, 1, 2, 3, 4], 2)"
   ]
  },
  {
   "cell_type": "markdown",
   "metadata": {},
   "source": [
    "<h1>Generate strings of matched parens</h1>"
   ]
  },
  {
   "cell_type": "code",
   "execution_count": 1,
   "metadata": {},
   "outputs": [],
   "source": [
    "def genrate_matched_parens(n):\n",
    "    results = []\n",
    "    def generate_brackets(left, right, bracket):\n",
    "        #print(left, right)\n",
    "        if left == 0 and right == 0:\n",
    "            results.append(bracket)\n",
    "            return \n",
    "        if left == right:\n",
    "            bracket += '('\n",
    "            generate_brackets(left-1, right, bracket)\n",
    "        elif left > 0 and left < right:\n",
    "            bracket += '('\n",
    "            generate_brackets(left-1, right, bracket)\n",
    "            bracket = bracket[:-1]               #This is backtracking\n",
    "            bracket += ')'\n",
    "            generate_brackets(left, right-1, bracket)\n",
    "        elif left == 0 and right > 0:\n",
    "            bracket += ')'\n",
    "            generate_brackets(left, right-1, bracket)\n",
    "    generate_brackets(n, n,\"\")\n",
    "    return results        "
   ]
  },
  {
   "cell_type": "code",
   "execution_count": 2,
   "metadata": {},
   "outputs": [
    {
     "data": {
      "text/plain": [
       "['((()))', '(()())', '(())()', '()(())', '()()()']"
      ]
     },
     "execution_count": 2,
     "metadata": {},
     "output_type": "execute_result"
    }
   ],
   "source": [
    "genrate_matched_parens(3)"
   ]
  },
  {
   "cell_type": "markdown",
   "metadata": {},
   "source": [
    "<h1>Generate palindromic decomposition</h1>"
   ]
  },
  {
   "cell_type": "code",
   "execution_count": 41,
   "metadata": {},
   "outputs": [],
   "source": [
    "def generate_palindomic_decompostion(s):\n",
    "    result = []\n",
    "    def is_palindrome(s):\n",
    "        if s == s[::-1]:\n",
    "            return True\n",
    "        return False\n",
    "    \n",
    "    def perform_recursion(st, start):\n",
    "        if is_palindrome(st) and st:\n",
    "            result.append(st)\n",
    "        if start == len(s):\n",
    "            return \n",
    "        perform_recursion(st[start+1:], start+1)\n",
    "    \n",
    "    perform_recursion(s, 0)\n",
    "    return result\n"
   ]
  },
  {
   "cell_type": "code",
   "execution_count": 42,
   "metadata": {},
   "outputs": [
    {
     "data": {
      "text/plain": [
       "['aba']"
      ]
     },
     "execution_count": 42,
     "metadata": {},
     "output_type": "execute_result"
    }
   ],
   "source": [
    "generate_palindomic_decompostion('aba')"
   ]
  },
  {
   "cell_type": "code",
   "execution_count": 21,
   "metadata": {},
   "outputs": [
    {
     "data": {
      "text/plain": [
       "'abc'"
      ]
     },
     "execution_count": 21,
     "metadata": {},
     "output_type": "execute_result"
    }
   ],
   "source": [
    "s = \"abc\"\n",
    "i = 0\n",
    "s[i:len(s)]"
   ]
  },
  {
   "cell_type": "code",
   "execution_count": null,
   "metadata": {},
   "outputs": [],
   "source": []
  }
 ],
 "metadata": {
  "kernelspec": {
   "display_name": "Python 3",
   "language": "python",
   "name": "python3"
  },
  "language_info": {
   "codemirror_mode": {
    "name": "ipython",
    "version": 3
   },
   "file_extension": ".py",
   "mimetype": "text/x-python",
   "name": "python",
   "nbconvert_exporter": "python",
   "pygments_lexer": "ipython3",
   "version": "3.7.3"
  }
 },
 "nbformat": 4,
 "nbformat_minor": 2
}
