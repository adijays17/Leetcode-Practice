{
 "cells": [
  {
   "cell_type": "markdown",
   "metadata": {},
   "source": [
    "Write a program that takes as input a set of sorted sequences and computes the union of these\n",
    "sequences as a sorted sequence. For example, if the input is (3,5,7), (0,5), and (0,6,28), then the\n",
    "output is (0, 0, 3, 5, 6, 6,7, 28).\n",
    "\n",
    "Merge Sorted Files"
   ]
  },
  {
   "cell_type": "code",
   "execution_count": 9,
   "metadata": {},
   "outputs": [
    {
     "name": "stdout",
     "output_type": "stream",
     "text": [
      "[0, 0, 1, 4, 4, 6, 7, 7, 9, 9, 10, 90, 900]\n"
     ]
    }
   ],
   "source": [
    "import heapq \n",
    "\n",
    "def merge_sorted_array(x):\n",
    "    if (len(x)<2):\n",
    "        return x[0]\n",
    "    l = []\n",
    "    heapq.heapify(l)\n",
    "    for e in x:\n",
    "        l = list(heapq.merge(l, e))\n",
    "    return l\n",
    "\n",
    "x = [[0,0,4,6,7], [9,10,90,900], [1,4,7,9]]\n",
    "print(merge_sorted_array(x))"
   ]
  },
  {
   "cell_type": "markdown",
   "metadata": {},
   "source": [
    "Sort increasing decreasing Array"
   ]
  },
  {
   "cell_type": "code",
   "execution_count": 10,
   "metadata": {},
   "outputs": [],
   "source": [
    "def sort_increasing_decreasing_array(l):\n",
    "    if len(l)<2:\n",
    "        return sorted(l)\n",
    "    else:\n",
    "        master_list = []\n",
    "        prev = l[0]\n",
    "        flag = 'i'\n",
    "        \n",
    "        prev_flag = 'i'\n",
    "        sub_list = []\n",
    "        sub_list.append(prev)\n",
    "        for e in l[1:]:\n",
    "            if e < prev:\n",
    "                flag = 'd'\n",
    "            else:\n",
    "                flag = 'i'\n",
    "\n",
    "            if prev_flag != flag:\n",
    "                prev_flag = flag\n",
    "                if flag == 'i':\n",
    "                    sub_list = sub_list[::-1]\n",
    "                master_list.append(sub_list)\n",
    "                sub_list = []\n",
    "                sub_list.append(e)\n",
    "            else:\n",
    "                sub_list.append(e)\n",
    "            prev = e\n",
    "        if flag == 'd':\n",
    "            master_list.append(sub_list[::-1])\n",
    "        else:\n",
    "            master_list.append(sub_list)\n",
    "    return master_list\n"
   ]
  },
  {
   "cell_type": "code",
   "execution_count": 11,
   "metadata": {},
   "outputs": [
    {
     "data": {
      "text/plain": [
       "[57, 131, 190, 221, 294, 339, 418, 442, 452, 493]"
      ]
     },
     "execution_count": 11,
     "metadata": {},
     "output_type": "execute_result"
    }
   ],
   "source": [
    "l = [57, 131, 493, 294, 221, 339, 418, 452, 442, 190]\n",
    "merge_sorted_array(sort_increasing_decreasing_array(l))"
   ]
  },
  {
   "cell_type": "code",
   "execution_count": 12,
   "metadata": {},
   "outputs": [
    {
     "data": {
      "text/plain": [
       "[70, 80, 100, 110, 120, 130, 160, 170, 180]"
      ]
     },
     "execution_count": 12,
     "metadata": {},
     "output_type": "execute_result"
    }
   ],
   "source": [
    "l = [180, 130, 120, 110, 160, 170, 100, 80, 70]\n",
    "merge_sorted_array(sort_increasing_decreasing_array(l))"
   ]
  },
  {
   "cell_type": "code",
   "execution_count": 13,
   "metadata": {},
   "outputs": [
    {
     "data": {
      "text/plain": [
       "40"
      ]
     },
     "execution_count": 13,
     "metadata": {},
     "output_type": "execute_result"
    }
   ],
   "source": [
    "l = [40]\n",
    "merge_sorted_array(sort_increasing_decreasing_array(l))"
   ]
  },
  {
   "cell_type": "markdown",
   "metadata": {},
   "source": [
    "You want to compute the running median of a sequence of numbers. The sequence is presented to\n",
    "you in a streaming fashion-you carmot back up to read an earlier value, and you need to output\n",
    "the median after reading in each new element. For example, if the input is 1,0,3,5,2,0,1 the output\n",
    "is 1, 0.5, 1, 2, 2, 1.5, 1.\n",
    "\n",
    "Design an algorithm for computing the running median of a sequence."
   ]
  },
  {
   "cell_type": "code",
   "execution_count": 14,
   "metadata": {},
   "outputs": [
    {
     "data": {
      "text/plain": [
       "[1, 0.5, 1, 2.0, 2, 1.5, 1]"
      ]
     },
     "execution_count": 14,
     "metadata": {},
     "output_type": "execute_result"
    }
   ],
   "source": [
    "def find_running_median(y):\n",
    "    min_heap = []\n",
    "    max_heap = []\n",
    "    result = []\n",
    "\n",
    "    for e in y:\n",
    "        heapq.heappush (max_heap , -heapq.heappushpop(min_heap , e))\n",
    "        if len(max_heap) > len(min_heap):\n",
    "            heapq.heappush(min_heap, -heapq.heappop(max_heap))\n",
    "\n",
    "        if (len(max_heap) == len(min_heap)):\n",
    "            result.append((-max_heap[0]+min_heap[0])/2)\n",
    "        else:\n",
    "            result.append(min_heap[0])\n",
    "    return result\n",
    "  \n",
    "y = [1,0,3,5,2,0,1]\n",
    "find_running_median(y)"
   ]
  },
  {
   "cell_type": "markdown",
   "metadata": {},
   "source": [
    "Compute the K closet Stars"
   ]
  },
  {
   "cell_type": "code",
   "execution_count": 15,
   "metadata": {},
   "outputs": [
    {
     "name": "stdout",
     "output_type": "stream",
     "text": [
      "[[1, 1, 1], [2, 2, 2], [3, 3, 3]]\n"
     ]
    }
   ],
   "source": [
    "import math \n",
    "\n",
    "def compute_k_closet_stars(points, K):\n",
    "    l = []\n",
    "    for e in points:\n",
    "        heapq.heappush(l , (math.sqrt(e[0]**2 + e[1]**2 + e[2]**2),e))\n",
    "    return [x[1] for x in heapq.nsmallest(K, l)]\n",
    "\n",
    "print(compute_k_closet_stars([[1,1,1], [4,4,4], [2,2,2], [6,6,6], [3,3,3], [5,5,5]],3))"
   ]
  },
  {
   "cell_type": "markdown",
   "metadata": {},
   "source": [
    "Compute the K largest elements in the Max Heap"
   ]
  },
  {
   "cell_type": "code",
   "execution_count": 18,
   "metadata": {},
   "outputs": [],
   "source": [
    "li = [3,34,123,2123,12,12343,213454,4321,5432,65432345,4231,321234]\n",
    "\n",
    "def k_largest(li, k):\n",
    "    heapq.heapify(li) \n",
    "    return heapq.nlargest(k, li)"
   ]
  },
  {
   "cell_type": "code",
   "execution_count": 19,
   "metadata": {},
   "outputs": [
    {
     "data": {
      "text/plain": [
       "[65432345, 321234, 213454, 12343]"
      ]
     },
     "execution_count": 19,
     "metadata": {},
     "output_type": "execute_result"
    }
   ],
   "source": [
    "k_largest(li, 4)"
   ]
  },
  {
   "cell_type": "code",
   "execution_count": null,
   "metadata": {},
   "outputs": [],
   "source": []
  }
 ],
 "metadata": {
  "kernelspec": {
   "display_name": "Python 3",
   "language": "python",
   "name": "python3"
  },
  "language_info": {
   "codemirror_mode": {
    "name": "ipython",
    "version": 3
   },
   "file_extension": ".py",
   "mimetype": "text/x-python",
   "name": "python",
   "nbconvert_exporter": "python",
   "pygments_lexer": "ipython3",
   "version": "3.7.3"
  }
 },
 "nbformat": 4,
 "nbformat_minor": 2
}
