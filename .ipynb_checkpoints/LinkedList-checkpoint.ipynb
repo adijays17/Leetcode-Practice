{
 "cells": [
  {
   "cell_type": "code",
   "execution_count": 3,
   "metadata": {},
   "outputs": [],
   "source": [
    "class ListNode:\n",
    "    def __init__(self, x):\n",
    "        self.val = x\n",
    "        self.next = None"
   ]
  },
  {
   "cell_type": "markdown",
   "metadata": {},
   "source": [
    "<h1>Cycle in Linked List (Floyd Algo) </h1>"
   ]
  },
  {
   "cell_type": "code",
   "execution_count": 5,
   "metadata": {},
   "outputs": [],
   "source": [
    "def hasCycle(self, head: ListNode) -> bool:\n",
    "    if head == None or head.next == None:\n",
    "        return False\n",
    "    temp1 = head\n",
    "    temp2 = head.next\n",
    "    while True:\n",
    "        if temp1 == None or temp2 == None or temp2.next == None:\n",
    "            return False\n",
    "        if temp1.val == temp2.val:\n",
    "            return True\n",
    "        temp1 = temp1.next\n",
    "        temp2 = temp2.next.next\n",
    "            "
   ]
  },
  {
   "cell_type": "markdown",
   "metadata": {},
   "source": [
    "<h1>Node at which cycle exists</h1>"
   ]
  },
  {
   "cell_type": "code",
   "execution_count": 6,
   "metadata": {},
   "outputs": [],
   "source": [
    "def detectCycle(self, head: ListNode) -> ListNode:\n",
    "        if head == None or head.next == None:\n",
    "            return None\n",
    "        temp = head\n",
    "        temp1 = head.next\n",
    "        while True:\n",
    "            if temp == None or temp1 == None or temp1.next == None:\n",
    "                return None\n",
    "            if temp.val == temp1.val:\n",
    "                temp = head\n",
    "                #temp1 = temp1.next\n",
    "                while True:\n",
    "                    if temp.val == temp1.val:\n",
    "                        return temp\n",
    "                    temp = temp.next\n",
    "                    temp1 = temp1.next\n",
    "            temp = temp.next\n",
    "            temp1 = temp1.next.next"
   ]
  },
  {
   "cell_type": "code",
   "execution_count": null,
   "metadata": {},
   "outputs": [],
   "source": []
  }
 ],
 "metadata": {
  "kernelspec": {
   "display_name": "Python 3",
   "language": "python",
   "name": "python3"
  },
  "language_info": {
   "codemirror_mode": {
    "name": "ipython",
    "version": 3
   },
   "file_extension": ".py",
   "mimetype": "text/x-python",
   "name": "python",
   "nbconvert_exporter": "python",
   "pygments_lexer": "ipython3",
   "version": "3.7.3"
  }
 },
 "nbformat": 4,
 "nbformat_minor": 2
}
