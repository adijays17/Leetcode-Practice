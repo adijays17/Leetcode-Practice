{
 "cells": [
  {
   "cell_type": "markdown",
   "metadata": {},
   "source": [
    "<h1> Tower of Hanoi </h1>"
   ]
  },
  {
   "cell_type": "code",
   "execution_count": 119,
   "metadata": {},
   "outputs": [],
   "source": [
    "def tower_of_hanoi(number_of_blocks, From, Spare, To):\n",
    "    if number_of_blocks==1:\n",
    "        print(\"Move block \",number_of_blocks,\" from \", From, \" to \", To)\n",
    "        return \n",
    "    tower_of_hanoi(number_of_blocks-1, From, To, Spare)\n",
    "    print(\"Move block \", number_of_blocks,\" from \", From, \" to \", To)\n",
    "    tower_of_hanoi(number_of_blocks-1, Spare, From, To)"
   ]
  },
  {
   "cell_type": "code",
   "execution_count": 132,
   "metadata": {},
   "outputs": [
    {
     "name": "stdout",
     "output_type": "stream",
     "text": [
      "Move block  1  from  A  to  C\n",
      "Move block  2  from  A  to  B\n",
      "Move block  1  from  C  to  B\n",
      "Move block  3  from  A  to  C\n",
      "Move block  1  from  B  to  A\n",
      "Move block  2  from  B  to  C\n",
      "Move block  1  from  A  to  C\n"
     ]
    }
   ],
   "source": [
    "tower_of_hanoi(3, \"A\", \"B\", \"C\")"
   ]
  },
  {
   "cell_type": "markdown",
   "metadata": {},
   "source": [
    "<h1> N Queens Problem </h1>"
   ]
  },
  {
   "cell_type": "code",
   "execution_count": 121,
   "metadata": {},
   "outputs": [],
   "source": [
    "def n_queens_porblem(n):\n",
    "    result = []\n",
    "    def perform_queen_setting(result, n):\n",
    "        if len(result) == n:\n",
    "            return \n",
    "        \n",
    "    return result"
   ]
  },
  {
   "cell_type": "code",
   "execution_count": 122,
   "metadata": {},
   "outputs": [
    {
     "data": {
      "text/plain": [
       "[]"
      ]
     },
     "execution_count": 122,
     "metadata": {},
     "output_type": "execute_result"
    }
   ],
   "source": [
    "n_queens_porblem(4)"
   ]
  },
  {
   "cell_type": "markdown",
   "metadata": {},
   "source": [
    "<h1>Permutations</h1>"
   ]
  },
  {
   "cell_type": "code",
   "execution_count": 123,
   "metadata": {},
   "outputs": [],
   "source": [
    "def permute(nums):\n",
    "    def swap (arr, i, j):\n",
    "        temp = arr[i]\n",
    "        arr[i] = arr[j]\n",
    "        arr[j] = temp\n",
    "        \n",
    "    def permutations(nums, start, results):\n",
    "        if start >= len(nums):\n",
    "            results.append(nums.copy())\n",
    "        else:\n",
    "            for i in range(start, len(nums)):\n",
    "                swap(nums, start, i)\n",
    "                permutations(nums, start+1, results)\n",
    "                swap(nums, start, i)          \n",
    "    results = []\n",
    "    permutations(nums, 0, results)\n",
    "    return results"
   ]
  },
  {
   "cell_type": "code",
   "execution_count": 124,
   "metadata": {},
   "outputs": [
    {
     "data": {
      "text/plain": [
       "[[1, 2, 3], [1, 3, 2], [2, 1, 3], [2, 3, 1], [3, 2, 1], [3, 1, 2]]"
      ]
     },
     "execution_count": 124,
     "metadata": {},
     "output_type": "execute_result"
    }
   ],
   "source": [
    "permute([1, 2, 3])"
   ]
  },
  {
   "cell_type": "markdown",
   "metadata": {},
   "source": [
    "<h1>Power set</h1>"
   ]
  },
  {
   "cell_type": "code",
   "execution_count": 136,
   "metadata": {},
   "outputs": [],
   "source": [
    "def power_set(input_set):\n",
    "    results = []\n",
    "    subset = []\n",
    "    def find_all_subsets(input_set, start_index, subset):\n",
    "        results.append(subset.copy())\n",
    "        for i in range(start_index, len(input_set)):\n",
    "            subset.append(input_set[i])\n",
    "            start_index += 1\n",
    "            find_all_subsets(input_set, start_index, subset)\n",
    "            del subset[-1]    #This is backtracking step\n",
    "    find_all_subsets(input_set, 0, subset)\n",
    "    return results\n",
    "    "
   ]
  },
  {
   "cell_type": "code",
   "execution_count": 137,
   "metadata": {},
   "outputs": [
    {
     "data": {
      "text/plain": [
       "[[], [2], [2, 1], [2, 1, 0], [2, 0], [1], [1, 0], [0]]"
      ]
     },
     "execution_count": 137,
     "metadata": {},
     "output_type": "execute_result"
    }
   ],
   "source": [
    "power_set([2, 1, 0])"
   ]
  },
  {
   "cell_type": "code",
   "execution_count": 138,
   "metadata": {},
   "outputs": [
    {
     "data": {
      "text/plain": [
       "[[], [1], [1, 3], [1, 3, 2], [1, 2], [3], [3, 2], [2]]"
      ]
     },
     "execution_count": 138,
     "metadata": {},
     "output_type": "execute_result"
    }
   ],
   "source": [
    "power_set([1, 3, 2])"
   ]
  },
  {
   "cell_type": "markdown",
   "metadata": {},
   "source": [
    "<h1>Power set for K</h1>"
   ]
  },
  {
   "cell_type": "code",
   "execution_count": 139,
   "metadata": {},
   "outputs": [],
   "source": [
    "def power_set_k(input_set, k):\n",
    "    results = []\n",
    "    if len(input_set) < 1:\n",
    "        return \n",
    "    subset = []\n",
    "    \n",
    "    def find_all_subsets(results, input_set, start_index, subset):\n",
    "        if len(subset) == k:\n",
    "            results.append(subset.copy())\n",
    "        for i in range(start_index, len(input_set)):\n",
    "            subset.append(input_set[i])\n",
    "            if len(subset) > k:\n",
    "                del subset[-1]\n",
    "                return\n",
    "            start_index += 1\n",
    "            find_all_subsets(results, input_set, start_index, subset)\n",
    "            del subset[-1]\n",
    "            \n",
    "    find_all_subsets(results, input_set, 0, subset)\n",
    "    return results"
   ]
  },
  {
   "cell_type": "code",
   "execution_count": 140,
   "metadata": {},
   "outputs": [
    {
     "data": {
      "text/plain": [
       "[[0, 1],\n",
       " [0, 2],\n",
       " [0, 3],\n",
       " [0, 4],\n",
       " [1, 2],\n",
       " [1, 3],\n",
       " [1, 4],\n",
       " [2, 3],\n",
       " [2, 4],\n",
       " [3, 4]]"
      ]
     },
     "execution_count": 140,
     "metadata": {},
     "output_type": "execute_result"
    }
   ],
   "source": [
    "power_set_k([0, 1, 2, 3, 4], 2)"
   ]
  },
  {
   "cell_type": "markdown",
   "metadata": {},
   "source": [
    "<h1>Generate strings of matched parens</h1>"
   ]
  },
  {
   "cell_type": "code",
   "execution_count": null,
   "metadata": {},
   "outputs": [],
   "source": []
  }
 ],
 "metadata": {
  "kernelspec": {
   "display_name": "Python 3",
   "language": "python",
   "name": "python3"
  },
  "language_info": {
   "codemirror_mode": {
    "name": "ipython",
    "version": 3
   },
   "file_extension": ".py",
   "mimetype": "text/x-python",
   "name": "python",
   "nbconvert_exporter": "python",
   "pygments_lexer": "ipython3",
   "version": "3.7.3"
  }
 },
 "nbformat": 4,
 "nbformat_minor": 2
}
